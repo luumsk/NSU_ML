{
 "cells": [
  {
   "cell_type": "markdown",
   "id": "0845c412",
   "metadata": {},
   "source": [
    "\n",
    "# Linear Regression\n",
    "\n",
    "This notebook walks through a complete, hands-on workflow for Linear\n",
    "Regression using three small, synthetic datasets related to Novosibirsk:\n",
    "\n",
    "1. **Rent Prices** — predict apartment rent (₽).\n",
    "2. **Winter Temperature** — predict average winter temperature (°C).\n",
    "3. **Energy Consumption** — predict building energy use (kWh) in winter.\n",
    "\n",
    "**What you'll learn**\n",
    "\n",
    "- Load and explore data.\n",
    "- Split into train/test sets.\n",
    "- Train a Linear Regression model.\n",
    "- Interpret coefficients and intercept.\n",
    "- Evaluate with MSE and R².\n",
    "- Visualize predictions and residuals.\n"
   ]
  },
  {
   "cell_type": "code",
   "execution_count": 1,
   "id": "0eb15fd1",
   "metadata": {},
   "outputs": [],
   "source": [
    "# Imports\n",
    "import pandas as pd\n",
    "import numpy as np\n",
    "import matplotlib.pyplot as plt\n",
    "\n",
    "from sklearn.model_selection import train_test_split\n",
    "from sklearn.linear_model import LinearRegression\n",
    "from sklearn.metrics import mean_squared_error, r2_score\n"
   ]
  },
  {
   "cell_type": "markdown",
   "id": "7fef8c30",
   "metadata": {},
   "source": [
    "\n",
    "## Helper Functions\n",
    "\n",
    "Small, focused helpers to keep code clean and readable.\n"
   ]
  },
  {
   "cell_type": "code",
   "execution_count": 2,
   "id": "04296eba",
   "metadata": {},
   "outputs": [],
   "source": [
    "\n",
    "def train_test_linear_regression(df, target_col):\n",
    "    \"\"\"Train/test split, fit LinearRegression, return trained model and\n",
    "    evaluation artifacts.\n",
    "\n",
    "    Args:\n",
    "        df (pd.DataFrame): Input dataframe with features + target.\n",
    "        target_col (str): Name of the target column.\n",
    "\n",
    "    Returns:\n",
    "        dict: Dictionary of model, feature names, arrays, and metrics.\n",
    "    \"\"\"\n",
    "    X = df.drop(columns=[target_col])\n",
    "    y = df[target_col]\n",
    "\n",
    "    X_train, X_test, y_train, y_test = train_test_split(\n",
    "        X, y, test_size=0.2, random_state=42\n",
    "    )\n",
    "\n",
    "    model = LinearRegression()\n",
    "    model.fit(X_train, y_train)\n",
    "\n",
    "    y_pred = model.predict(X_test)\n",
    "    mse = mean_squared_error(y_test, y_pred)\n",
    "    r2 = r2_score(y_test, y_pred)\n",
    "\n",
    "    return {\n",
    "        \"model\": model,\n",
    "        \"features\": list(X.columns),\n",
    "        \"X_train\": X_train,\n",
    "        \"X_test\": X_test,\n",
    "        \"y_train\": y_train,\n",
    "        \"y_test\": y_test,\n",
    "        \"y_pred\": y_pred,\n",
    "        \"mse\": mse,\n",
    "        \"r2\": r2,\n",
    "    }\n"
   ]
  },
  {
   "cell_type": "code",
   "execution_count": 3,
   "id": "9fedf649",
   "metadata": {},
   "outputs": [],
   "source": [
    "\n",
    "def plot_pred_vs_true(y_true, y_pred, title):\n",
    "    \"\"\"Scatter plot of predicted vs true values.\"\"\"\n",
    "    plt.figure(figsize=(5, 4))\n",
    "    plt.scatter(y_true, y_pred)\n",
    "    y_min = min(y_true.min(), y_pred.min())\n",
    "    y_max = max(y_true.max(), y_pred.max())\n",
    "    plt.plot([y_min, y_max], [y_min, y_max], linestyle='--')\n",
    "    plt.xlabel(\"True values\")\n",
    "    plt.ylabel(\"Predicted values\")\n",
    "    plt.title(title)\n",
    "    plt.show()\n"
   ]
  },
  {
   "cell_type": "code",
   "execution_count": 4,
   "id": "fa7bf5fc",
   "metadata": {},
   "outputs": [],
   "source": [
    "\n",
    "def plot_residuals(y_true, y_pred, title):\n",
    "    \"\"\"Histogram of residuals (y_true - y_pred).\"\"\"\n",
    "    residuals = y_true - y_pred\n",
    "    plt.figure(figsize=(5, 4))\n",
    "    plt.hist(residuals, bins=15)\n",
    "    plt.title(title)\n",
    "    plt.xlabel(\"Residual\")\n",
    "    plt.ylabel(\"Frequency\")\n",
    "    plt.show()\n"
   ]
  },
  {
   "cell_type": "markdown",
   "id": "5ae6e713",
   "metadata": {},
   "source": [
    "\n",
    "## 1) Rent Prices in Novosibirsk\n",
    "\n",
    "**Target:** `rent_price_rub`  \n",
    "**Features:** `area_m2`, `distance_to_center_km`, `floor`,\n",
    "`building_age_years`\n"
   ]
  },
  {
   "cell_type": "code",
   "execution_count": 5,
   "id": "bc10dafc",
   "metadata": {},
   "outputs": [
    {
     "data": {
      "text/html": [
       "<div>\n",
       "<style scoped>\n",
       "    .dataframe tbody tr th:only-of-type {\n",
       "        vertical-align: middle;\n",
       "    }\n",
       "\n",
       "    .dataframe tbody tr th {\n",
       "        vertical-align: top;\n",
       "    }\n",
       "\n",
       "    .dataframe thead th {\n",
       "        text-align: right;\n",
       "    }\n",
       "</style>\n",
       "<table border=\"1\" class=\"dataframe\">\n",
       "  <thead>\n",
       "    <tr style=\"text-align: right;\">\n",
       "      <th></th>\n",
       "      <th>area_m2</th>\n",
       "      <th>distance_to_center_km</th>\n",
       "      <th>floor</th>\n",
       "      <th>building_age_years</th>\n",
       "      <th>rent_price_rub</th>\n",
       "    </tr>\n",
       "  </thead>\n",
       "  <tbody>\n",
       "    <tr>\n",
       "      <th>0</th>\n",
       "      <td>76</td>\n",
       "      <td>1.28</td>\n",
       "      <td>7</td>\n",
       "      <td>39</td>\n",
       "      <td>34606.0</td>\n",
       "    </tr>\n",
       "    <tr>\n",
       "      <th>1</th>\n",
       "      <td>39</td>\n",
       "      <td>8.58</td>\n",
       "      <td>11</td>\n",
       "      <td>2</td>\n",
       "      <td>10000.0</td>\n",
       "    </tr>\n",
       "    <tr>\n",
       "      <th>2</th>\n",
       "      <td>96</td>\n",
       "      <td>5.05</td>\n",
       "      <td>3</td>\n",
       "      <td>3</td>\n",
       "      <td>35590.0</td>\n",
       "    </tr>\n",
       "    <tr>\n",
       "      <th>3</th>\n",
       "      <td>85</td>\n",
       "      <td>4.56</td>\n",
       "      <td>6</td>\n",
       "      <td>49</td>\n",
       "      <td>35672.0</td>\n",
       "    </tr>\n",
       "    <tr>\n",
       "      <th>4</th>\n",
       "      <td>45</td>\n",
       "      <td>9.34</td>\n",
       "      <td>12</td>\n",
       "      <td>37</td>\n",
       "      <td>10000.0</td>\n",
       "    </tr>\n",
       "  </tbody>\n",
       "</table>\n",
       "</div>"
      ],
      "text/plain": [
       "   area_m2  distance_to_center_km  floor  building_age_years  rent_price_rub\n",
       "0       76                   1.28      7                  39         34606.0\n",
       "1       39                   8.58     11                   2         10000.0\n",
       "2       96                   5.05      3                   3         35590.0\n",
       "3       85                   4.56      6                  49         35672.0\n",
       "4       45                   9.34     12                  37         10000.0"
      ]
     },
     "execution_count": 5,
     "metadata": {},
     "output_type": "execute_result"
    }
   ],
   "source": [
    "\n",
    "rent_path = \"Data/novosibirsk_rent_prices.csv\"\n",
    "rent_df = pd.read_csv(rent_path)\n",
    "rent_df.head()\n"
   ]
  },
  {
   "cell_type": "code",
   "execution_count": 6,
   "id": "0505ae63",
   "metadata": {},
   "outputs": [
    {
     "data": {
      "text/html": [
       "<div>\n",
       "<style scoped>\n",
       "    .dataframe tbody tr th:only-of-type {\n",
       "        vertical-align: middle;\n",
       "    }\n",
       "\n",
       "    .dataframe tbody tr th {\n",
       "        vertical-align: top;\n",
       "    }\n",
       "\n",
       "    .dataframe thead th {\n",
       "        text-align: right;\n",
       "    }\n",
       "</style>\n",
       "<table border=\"1\" class=\"dataframe\">\n",
       "  <thead>\n",
       "    <tr style=\"text-align: right;\">\n",
       "      <th></th>\n",
       "      <th>area_m2</th>\n",
       "      <th>distance_to_center_km</th>\n",
       "      <th>floor</th>\n",
       "      <th>building_age_years</th>\n",
       "      <th>rent_price_rub</th>\n",
       "    </tr>\n",
       "  </thead>\n",
       "  <tbody>\n",
       "    <tr>\n",
       "      <th>count</th>\n",
       "      <td>60.000000</td>\n",
       "      <td>60.000000</td>\n",
       "      <td>60.000000</td>\n",
       "      <td>60.000000</td>\n",
       "      <td>60.000000</td>\n",
       "    </tr>\n",
       "    <tr>\n",
       "      <th>mean</th>\n",
       "      <td>61.666667</td>\n",
       "      <td>5.684333</td>\n",
       "      <td>8.500000</td>\n",
       "      <td>22.566667</td>\n",
       "      <td>23845.283333</td>\n",
       "    </tr>\n",
       "    <tr>\n",
       "      <th>std</th>\n",
       "      <td>23.789805</td>\n",
       "      <td>2.527537</td>\n",
       "      <td>4.069315</td>\n",
       "      <td>14.710041</td>\n",
       "      <td>11878.766403</td>\n",
       "    </tr>\n",
       "    <tr>\n",
       "      <th>min</th>\n",
       "      <td>26.000000</td>\n",
       "      <td>1.130000</td>\n",
       "      <td>1.000000</td>\n",
       "      <td>1.000000</td>\n",
       "      <td>10000.000000</td>\n",
       "    </tr>\n",
       "    <tr>\n",
       "      <th>25%</th>\n",
       "      <td>39.000000</td>\n",
       "      <td>3.600000</td>\n",
       "      <td>5.750000</td>\n",
       "      <td>8.500000</td>\n",
       "      <td>10000.000000</td>\n",
       "    </tr>\n",
       "    <tr>\n",
       "      <th>50%</th>\n",
       "      <td>67.000000</td>\n",
       "      <td>5.955000</td>\n",
       "      <td>9.000000</td>\n",
       "      <td>22.500000</td>\n",
       "      <td>22924.000000</td>\n",
       "    </tr>\n",
       "    <tr>\n",
       "      <th>75%</th>\n",
       "      <td>83.250000</td>\n",
       "      <td>7.512500</td>\n",
       "      <td>12.000000</td>\n",
       "      <td>33.250000</td>\n",
       "      <td>33400.250000</td>\n",
       "    </tr>\n",
       "    <tr>\n",
       "      <th>max</th>\n",
       "      <td>99.000000</td>\n",
       "      <td>9.750000</td>\n",
       "      <td>14.000000</td>\n",
       "      <td>49.000000</td>\n",
       "      <td>48894.000000</td>\n",
       "    </tr>\n",
       "  </tbody>\n",
       "</table>\n",
       "</div>"
      ],
      "text/plain": [
       "         area_m2  distance_to_center_km      floor  building_age_years  \\\n",
       "count  60.000000              60.000000  60.000000           60.000000   \n",
       "mean   61.666667               5.684333   8.500000           22.566667   \n",
       "std    23.789805               2.527537   4.069315           14.710041   \n",
       "min    26.000000               1.130000   1.000000            1.000000   \n",
       "25%    39.000000               3.600000   5.750000            8.500000   \n",
       "50%    67.000000               5.955000   9.000000           22.500000   \n",
       "75%    83.250000               7.512500  12.000000           33.250000   \n",
       "max    99.000000               9.750000  14.000000           49.000000   \n",
       "\n",
       "       rent_price_rub  \n",
       "count       60.000000  \n",
       "mean     23845.283333  \n",
       "std      11878.766403  \n",
       "min      10000.000000  \n",
       "25%      10000.000000  \n",
       "50%      22924.000000  \n",
       "75%      33400.250000  \n",
       "max      48894.000000  "
      ]
     },
     "execution_count": 6,
     "metadata": {},
     "output_type": "execute_result"
    }
   ],
   "source": [
    "\n",
    "rent_df.describe(include='all')\n"
   ]
  },
  {
   "cell_type": "code",
   "execution_count": 7,
   "id": "a6e373e5",
   "metadata": {},
   "outputs": [
    {
     "name": "stdout",
     "output_type": "stream",
     "text": [
      "Intercept: 4441.19\n",
      "area_m2                   433.91\n",
      "distance_to_center_km     -1124.58\n",
      "floor                     63.74\n",
      "building_age_years        -62.87\n",
      "MSE: 9295022.48\n",
      "R^2: 0.930\n"
     ]
    }
   ],
   "source": [
    "\n",
    "rent_result = train_test_linear_regression(\n",
    "    rent_df, target_col=\"rent_price_rub\"\n",
    ")\n",
    "\n",
    "print(f\"Intercept: {rent_result['model'].intercept_:.2f}\")\n",
    "for name, coef in zip(\n",
    "    rent_result[\"features\"], rent_result[\"model\"].coef_\n",
    "):\n",
    "    print(f\"{name:25s} {coef:.2f}\")\n",
    "\n",
    "print(f\"MSE: {rent_result['mse']:.2f}\")\n",
    "print(f\"R^2: {rent_result['r2']:.3f}\")\n"
   ]
  },
  {
   "cell_type": "code",
   "execution_count": 8,
   "id": "917d8ede",
   "metadata": {},
   "outputs": [
    {
     "data": {
      "image/png": "[encoded data removed]",
      "text/plain": [
       "<Figure size 500x400 with 1 Axes>"
      ]
     },
     "metadata": {},
     "output_type": "display_data"
    }
   ],
   "source": [
    "\n",
    "plot_pred_vs_true(\n",
    "    rent_result[\"y_test\"],\n",
    "    rent_result[\"y_pred\"],\n",
    "    \"Rent Prices: Predicted vs True\",\n",
    ")\n"
   ]
  },
  {
   "cell_type": "code",
   "execution_count": 9,
   "id": "1f0689dc",
   "metadata": {},
   "outputs": [
    {
     "data": {
      "image/png": "[encoded data removed]",
      "text/plain": [
       "<Figure size 500x400 with 1 Axes>"
      ]
     },
     "metadata": {},
     "output_type": "display_data"
    }
   ],
   "source": [
    "\n",
    "plot_residuals(\n",
    "    rent_result[\"y_test\"],\n",
    "    rent_result[\"y_pred\"],\n",
    "    \"Rent Prices: Residuals\",\n",
    ")\n"
   ]
  },
  {
   "cell_type": "markdown",
   "id": "ded9b4b4",
   "metadata": {},
   "source": [
    "\n",
    "## 2) Winter Temperature in Novosibirsk\n",
    "\n",
    "**Target:** `avg_temp_C`  \n",
    "**Features:** `altitude_m`, `latitude_deg`, `snow_days`,\n",
    "`avg_wind_speed_mps`\n"
   ]
  },
  {
   "cell_type": "code",
   "execution_count": 10,
   "id": "419eaceb",
   "metadata": {},
   "outputs": [
    {
     "data": {
      "text/html": [
       "<div>\n",
       "<style scoped>\n",
       "    .dataframe tbody tr th:only-of-type {\n",
       "        vertical-align: middle;\n",
       "    }\n",
       "\n",
       "    .dataframe tbody tr th {\n",
       "        vertical-align: top;\n",
       "    }\n",
       "\n",
       "    .dataframe thead th {\n",
       "        text-align: right;\n",
       "    }\n",
       "</style>\n",
       "<table border=\"1\" class=\"dataframe\">\n",
       "  <thead>\n",
       "    <tr style=\"text-align: right;\">\n",
       "      <th></th>\n",
       "      <th>altitude_m</th>\n",
       "      <th>latitude_deg</th>\n",
       "      <th>snow_days</th>\n",
       "      <th>avg_wind_speed_mps</th>\n",
       "      <th>avg_temp_C</th>\n",
       "    </tr>\n",
       "  </thead>\n",
       "  <tbody>\n",
       "    <tr>\n",
       "      <th>0</th>\n",
       "      <td>166</td>\n",
       "      <td>54.900</td>\n",
       "      <td>128</td>\n",
       "      <td>5.85</td>\n",
       "      <td>27.2</td>\n",
       "    </tr>\n",
       "    <tr>\n",
       "      <th>1</th>\n",
       "      <td>203</td>\n",
       "      <td>54.816</td>\n",
       "      <td>159</td>\n",
       "      <td>3.44</td>\n",
       "      <td>18.6</td>\n",
       "    </tr>\n",
       "    <tr>\n",
       "      <th>2</th>\n",
       "      <td>273</td>\n",
       "      <td>54.921</td>\n",
       "      <td>93</td>\n",
       "      <td>7.56</td>\n",
       "      <td>25.8</td>\n",
       "    </tr>\n",
       "    <tr>\n",
       "      <th>3</th>\n",
       "      <td>123</td>\n",
       "      <td>55.015</td>\n",
       "      <td>111</td>\n",
       "      <td>1.27</td>\n",
       "      <td>36.2</td>\n",
       "    </tr>\n",
       "    <tr>\n",
       "      <th>4</th>\n",
       "      <td>213</td>\n",
       "      <td>54.931</td>\n",
       "      <td>154</td>\n",
       "      <td>3.93</td>\n",
       "      <td>23.7</td>\n",
       "    </tr>\n",
       "  </tbody>\n",
       "</table>\n",
       "</div>"
      ],
      "text/plain": [
       "   altitude_m  latitude_deg  snow_days  avg_wind_speed_mps  avg_temp_C\n",
       "0         166        54.900        128                5.85        27.2\n",
       "1         203        54.816        159                3.44        18.6\n",
       "2         273        54.921         93                7.56        25.8\n",
       "3         123        55.015        111                1.27        36.2\n",
       "4         213        54.931        154                3.93        23.7"
      ]
     },
     "execution_count": 10,
     "metadata": {},
     "output_type": "execute_result"
    }
   ],
   "source": [
    "\n",
    "temp_path = \"Data/novosibirsk_temperature.csv\"\n",
    "temp_df = pd.read_csv(temp_path)\n",
    "temp_df.head()\n"
   ]
  },
  {
   "cell_type": "code",
   "execution_count": 11,
   "id": "fe63e368",
   "metadata": {},
   "outputs": [
    {
     "data": {
      "text/html": [
       "<div>\n",
       "<style scoped>\n",
       "    .dataframe tbody tr th:only-of-type {\n",
       "        vertical-align: middle;\n",
       "    }\n",
       "\n",
       "    .dataframe tbody tr th {\n",
       "        vertical-align: top;\n",
       "    }\n",
       "\n",
       "    .dataframe thead th {\n",
       "        text-align: right;\n",
       "    }\n",
       "</style>\n",
       "<table border=\"1\" class=\"dataframe\">\n",
       "  <thead>\n",
       "    <tr style=\"text-align: right;\">\n",
       "      <th></th>\n",
       "      <th>altitude_m</th>\n",
       "      <th>latitude_deg</th>\n",
       "      <th>snow_days</th>\n",
       "      <th>avg_wind_speed_mps</th>\n",
       "      <th>avg_temp_C</th>\n",
       "    </tr>\n",
       "  </thead>\n",
       "  <tbody>\n",
       "    <tr>\n",
       "      <th>count</th>\n",
       "      <td>55.000000</td>\n",
       "      <td>55.000000</td>\n",
       "      <td>55.000000</td>\n",
       "      <td>55.000000</td>\n",
       "      <td>55.000000</td>\n",
       "    </tr>\n",
       "    <tr>\n",
       "      <th>mean</th>\n",
       "      <td>201.836364</td>\n",
       "      <td>54.968455</td>\n",
       "      <td>106.963636</td>\n",
       "      <td>4.882727</td>\n",
       "      <td>30.536364</td>\n",
       "    </tr>\n",
       "    <tr>\n",
       "      <th>std</th>\n",
       "      <td>55.869810</td>\n",
       "      <td>0.117687</td>\n",
       "      <td>30.776352</td>\n",
       "      <td>2.050920</td>\n",
       "      <td>7.216605</td>\n",
       "    </tr>\n",
       "    <tr>\n",
       "      <th>min</th>\n",
       "      <td>107.000000</td>\n",
       "      <td>54.807000</td>\n",
       "      <td>60.000000</td>\n",
       "      <td>1.270000</td>\n",
       "      <td>17.000000</td>\n",
       "    </tr>\n",
       "    <tr>\n",
       "      <th>25%</th>\n",
       "      <td>156.500000</td>\n",
       "      <td>54.866500</td>\n",
       "      <td>83.000000</td>\n",
       "      <td>3.460000</td>\n",
       "      <td>25.500000</td>\n",
       "    </tr>\n",
       "    <tr>\n",
       "      <th>50%</th>\n",
       "      <td>203.000000</td>\n",
       "      <td>54.960000</td>\n",
       "      <td>102.000000</td>\n",
       "      <td>4.930000</td>\n",
       "      <td>32.400000</td>\n",
       "    </tr>\n",
       "    <tr>\n",
       "      <th>75%</th>\n",
       "      <td>250.500000</td>\n",
       "      <td>55.069000</td>\n",
       "      <td>133.000000</td>\n",
       "      <td>6.665000</td>\n",
       "      <td>36.250000</td>\n",
       "    </tr>\n",
       "    <tr>\n",
       "      <th>max</th>\n",
       "      <td>293.000000</td>\n",
       "      <td>55.192000</td>\n",
       "      <td>159.000000</td>\n",
       "      <td>7.970000</td>\n",
       "      <td>43.200000</td>\n",
       "    </tr>\n",
       "  </tbody>\n",
       "</table>\n",
       "</div>"
      ],
      "text/plain": [
       "       altitude_m  latitude_deg   snow_days  avg_wind_speed_mps  avg_temp_C\n",
       "count   55.000000     55.000000   55.000000           55.000000   55.000000\n",
       "mean   201.836364     54.968455  106.963636            4.882727   30.536364\n",
       "std     55.869810      0.117687   30.776352            2.050920    7.216605\n",
       "min    107.000000     54.807000   60.000000            1.270000   17.000000\n",
       "25%    156.500000     54.866500   83.000000            3.460000   25.500000\n",
       "50%    203.000000     54.960000  102.000000            4.930000   32.400000\n",
       "75%    250.500000     55.069000  133.000000            6.665000   36.250000\n",
       "max    293.000000     55.192000  159.000000            7.970000   43.200000"
      ]
     },
     "execution_count": 11,
     "metadata": {},
     "output_type": "execute_result"
    }
   ],
   "source": [
    "\n",
    "temp_df.describe(include='all')\n"
   ]
  },
  {
   "cell_type": "code",
   "execution_count": 12,
   "id": "a9a02336",
   "metadata": {},
   "outputs": [
    {
     "name": "stdout",
     "output_type": "stream",
     "text": [
      "Intercept: -116.24\n",
      "altitude_m                -0.05\n",
      "latitude_deg              3.33\n",
      "snow_days                 -0.21\n",
      "avg_wind_speed_mps        -0.87\n",
      "MSE: 8.95\n",
      "R^2: 0.634\n"
     ]
    }
   ],
   "source": [
    "\n",
    "temp_result = train_test_linear_regression(\n",
    "    temp_df, target_col=\"avg_temp_C\"\n",
    ")\n",
    "\n",
    "print(f\"Intercept: {temp_result['model'].intercept_:.2f}\")\n",
    "for name, coef in zip(\n",
    "    temp_result[\"features\"], temp_result[\"model\"].coef_\n",
    "):\n",
    "    print(f\"{name:25s} {coef:.2f}\")\n",
    "\n",
    "print(f\"MSE: {temp_result['mse']:.2f}\")\n",
    "print(f\"R^2: {temp_result['r2']:.3f}\")\n"
   ]
  },
  {
   "cell_type": "code",
   "execution_count": 13,
   "id": "e217969b",
   "metadata": {},
   "outputs": [
    {
     "data": {
      "image/png": "[encoded data removed]",
      "text/plain": [
       "<Figure size 500x400 with 1 Axes>"
      ]
     },
     "metadata": {},
     "output_type": "display_data"
    }
   ],
   "source": [
    "\n",
    "plot_pred_vs_true(\n",
    "    temp_result[\"y_test\"],\n",
    "    temp_result[\"y_pred\"],\n",
    "    \"Temperature: Predicted vs True\",\n",
    ")\n"
   ]
  },
  {
   "cell_type": "code",
   "execution_count": 14,
   "id": "bd964523",
   "metadata": {},
   "outputs": [
    {
     "data": {
      "image/png": "[encoded data removed]",
      "text/plain": [
       "<Figure size 500x400 with 1 Axes>"
      ]
     },
     "metadata": {},
     "output_type": "display_data"
    }
   ],
   "source": [
    "\n",
    "plot_residuals(\n",
    "    temp_result[\"y_test\"],\n",
    "    temp_result[\"y_pred\"],\n",
    "    \"Temperature: Residuals\",\n",
    ")\n"
   ]
  },
  {
   "cell_type": "markdown",
   "id": "d5f10328",
   "metadata": {},
   "source": [
    "\n",
    "## 3) Winter Energy Consumption in Novosibirsk\n",
    "\n",
    "**Target:** `energy_consumption_kWh`  \n",
    "**Features:** `temp_outside_C`, `building_size_m2`,\n",
    "`insulation_quality`, `num_occupants`\n"
   ]
  },
  {
   "cell_type": "code",
   "execution_count": 15,
   "id": "dbc031de",
   "metadata": {},
   "outputs": [
    {
     "data": {
      "text/html": [
       "<div>\n",
       "<style scoped>\n",
       "    .dataframe tbody tr th:only-of-type {\n",
       "        vertical-align: middle;\n",
       "    }\n",
       "\n",
       "    .dataframe tbody tr th {\n",
       "        vertical-align: top;\n",
       "    }\n",
       "\n",
       "    .dataframe thead th {\n",
       "        text-align: right;\n",
       "    }\n",
       "</style>\n",
       "<table border=\"1\" class=\"dataframe\">\n",
       "  <thead>\n",
       "    <tr style=\"text-align: right;\">\n",
       "      <th></th>\n",
       "      <th>temp_outside_C</th>\n",
       "      <th>building_size_m2</th>\n",
       "      <th>insulation_quality</th>\n",
       "      <th>num_occupants</th>\n",
       "      <th>energy_consumption_kWh</th>\n",
       "    </tr>\n",
       "  </thead>\n",
       "  <tbody>\n",
       "    <tr>\n",
       "      <th>0</th>\n",
       "      <td>-21.6</td>\n",
       "      <td>1219</td>\n",
       "      <td>0.64</td>\n",
       "      <td>1</td>\n",
       "      <td>1401.0</td>\n",
       "    </tr>\n",
       "    <tr>\n",
       "      <th>1</th>\n",
       "      <td>-17.7</td>\n",
       "      <td>741</td>\n",
       "      <td>0.73</td>\n",
       "      <td>4</td>\n",
       "      <td>1531.0</td>\n",
       "    </tr>\n",
       "    <tr>\n",
       "      <th>2</th>\n",
       "      <td>-11.9</td>\n",
       "      <td>958</td>\n",
       "      <td>0.56</td>\n",
       "      <td>7</td>\n",
       "      <td>1283.0</td>\n",
       "    </tr>\n",
       "    <tr>\n",
       "      <th>3</th>\n",
       "      <td>-21.9</td>\n",
       "      <td>1329</td>\n",
       "      <td>0.62</td>\n",
       "      <td>1</td>\n",
       "      <td>1898.0</td>\n",
       "    </tr>\n",
       "    <tr>\n",
       "      <th>4</th>\n",
       "      <td>-26.0</td>\n",
       "      <td>280</td>\n",
       "      <td>0.82</td>\n",
       "      <td>2</td>\n",
       "      <td>412.0</td>\n",
       "    </tr>\n",
       "  </tbody>\n",
       "</table>\n",
       "</div>"
      ],
      "text/plain": [
       "   temp_outside_C  building_size_m2  insulation_quality  num_occupants  \\\n",
       "0           -21.6              1219                0.64              1   \n",
       "1           -17.7               741                0.73              4   \n",
       "2           -11.9               958                0.56              7   \n",
       "3           -21.9              1329                0.62              1   \n",
       "4           -26.0               280                0.82              2   \n",
       "\n",
       "   energy_consumption_kWh  \n",
       "0                  1401.0  \n",
       "1                  1531.0  \n",
       "2                  1283.0  \n",
       "3                  1898.0  \n",
       "4                   412.0  "
      ]
     },
     "execution_count": 15,
     "metadata": {},
     "output_type": "execute_result"
    }
   ],
   "source": [
    "\n",
    "energy_path = \"Data/novosibirsk_energy_consumption.csv\"\n",
    "energy_df = pd.read_csv(energy_path)\n",
    "energy_df.head()\n"
   ]
  },
  {
   "cell_type": "code",
   "execution_count": 16,
   "id": "e5402862",
   "metadata": {},
   "outputs": [
    {
     "data": {
      "text/html": [
       "<div>\n",
       "<style scoped>\n",
       "    .dataframe tbody tr th:only-of-type {\n",
       "        vertical-align: middle;\n",
       "    }\n",
       "\n",
       "    .dataframe tbody tr th {\n",
       "        vertical-align: top;\n",
       "    }\n",
       "\n",
       "    .dataframe thead th {\n",
       "        text-align: right;\n",
       "    }\n",
       "</style>\n",
       "<table border=\"1\" class=\"dataframe\">\n",
       "  <thead>\n",
       "    <tr style=\"text-align: right;\">\n",
       "      <th></th>\n",
       "      <th>temp_outside_C</th>\n",
       "      <th>building_size_m2</th>\n",
       "      <th>insulation_quality</th>\n",
       "      <th>num_occupants</th>\n",
       "      <th>energy_consumption_kWh</th>\n",
       "    </tr>\n",
       "  </thead>\n",
       "  <tbody>\n",
       "    <tr>\n",
       "      <th>count</th>\n",
       "      <td>70.000000</td>\n",
       "      <td>70.000000</td>\n",
       "      <td>70.000000</td>\n",
       "      <td>70.000000</td>\n",
       "      <td>70.000000</td>\n",
       "    </tr>\n",
       "    <tr>\n",
       "      <th>mean</th>\n",
       "      <td>-14.874286</td>\n",
       "      <td>785.442857</td>\n",
       "      <td>0.616714</td>\n",
       "      <td>3.914286</td>\n",
       "      <td>1127.600000</td>\n",
       "    </tr>\n",
       "    <tr>\n",
       "      <th>std</th>\n",
       "      <td>8.681443</td>\n",
       "      <td>397.039612</td>\n",
       "      <td>0.185603</td>\n",
       "      <td>1.946702</td>\n",
       "      <td>711.564054</td>\n",
       "    </tr>\n",
       "    <tr>\n",
       "      <th>min</th>\n",
       "      <td>-29.600000</td>\n",
       "      <td>207.000000</td>\n",
       "      <td>0.310000</td>\n",
       "      <td>1.000000</td>\n",
       "      <td>-159.000000</td>\n",
       "    </tr>\n",
       "    <tr>\n",
       "      <th>25%</th>\n",
       "      <td>-21.900000</td>\n",
       "      <td>406.250000</td>\n",
       "      <td>0.470000</td>\n",
       "      <td>2.000000</td>\n",
       "      <td>595.250000</td>\n",
       "    </tr>\n",
       "    <tr>\n",
       "      <th>50%</th>\n",
       "      <td>-13.800000</td>\n",
       "      <td>828.500000</td>\n",
       "      <td>0.600000</td>\n",
       "      <td>4.000000</td>\n",
       "      <td>1086.500000</td>\n",
       "    </tr>\n",
       "    <tr>\n",
       "      <th>75%</th>\n",
       "      <td>-7.350000</td>\n",
       "      <td>1099.000000</td>\n",
       "      <td>0.727500</td>\n",
       "      <td>5.750000</td>\n",
       "      <td>1588.000000</td>\n",
       "    </tr>\n",
       "    <tr>\n",
       "      <th>max</th>\n",
       "      <td>-0.400000</td>\n",
       "      <td>1480.000000</td>\n",
       "      <td>0.990000</td>\n",
       "      <td>7.000000</td>\n",
       "      <td>3022.000000</td>\n",
       "    </tr>\n",
       "  </tbody>\n",
       "</table>\n",
       "</div>"
      ],
      "text/plain": [
       "       temp_outside_C  building_size_m2  insulation_quality  num_occupants  \\\n",
       "count       70.000000         70.000000           70.000000      70.000000   \n",
       "mean       -14.874286        785.442857            0.616714       3.914286   \n",
       "std          8.681443        397.039612            0.185603       1.946702   \n",
       "min        -29.600000        207.000000            0.310000       1.000000   \n",
       "25%        -21.900000        406.250000            0.470000       2.000000   \n",
       "50%        -13.800000        828.500000            0.600000       4.000000   \n",
       "75%         -7.350000       1099.000000            0.727500       5.750000   \n",
       "max         -0.400000       1480.000000            0.990000       7.000000   \n",
       "\n",
       "       energy_consumption_kWh  \n",
       "count               70.000000  \n",
       "mean              1127.600000  \n",
       "std                711.564054  \n",
       "min               -159.000000  \n",
       "25%                595.250000  \n",
       "50%               1086.500000  \n",
       "75%               1588.000000  \n",
       "max               3022.000000  "
      ]
     },
     "execution_count": 16,
     "metadata": {},
     "output_type": "execute_result"
    }
   ],
   "source": [
    "\n",
    "energy_df.describe(include='all')\n"
   ]
  },
  {
   "cell_type": "code",
   "execution_count": 17,
   "id": "9655d3ef",
   "metadata": {},
   "outputs": [
    {
     "name": "stdout",
     "output_type": "stream",
     "text": [
      "Intercept: 345.56\n",
      "temp_outside_C            -44.19\n",
      "building_size_m2          0.57\n",
      "insulation_quality        -440.97\n",
      "num_occupants             -9.20\n",
      "MSE: 444828.03\n",
      "R^2: 0.373\n"
     ]
    }
   ],
   "source": [
    "\n",
    "energy_result = train_test_linear_regression(\n",
    "    energy_df, target_col=\"energy_consumption_kWh\"\n",
    ")\n",
    "\n",
    "print(f\"Intercept: {energy_result['model'].intercept_:.2f}\")\n",
    "for name, coef in zip(\n",
    "    energy_result[\"features\"], energy_result[\"model\"].coef_\n",
    "):\n",
    "    print(f\"{name:25s} {coef:.2f}\")\n",
    "\n",
    "print(f\"MSE: {energy_result['mse']:.2f}\")\n",
    "print(f\"R^2: {energy_result['r2']:.3f}\")\n"
   ]
  },
  {
   "cell_type": "code",
   "execution_count": 18,
   "id": "c6075521",
   "metadata": {},
   "outputs": [
    {
     "data": {
      "image/png": "[encoded data removed]",
      "text/plain": [
       "<Figure size 500x400 with 1 Axes>"
      ]
     },
     "metadata": {},
     "output_type": "display_data"
    }
   ],
   "source": [
    "\n",
    "plot_pred_vs_true(\n",
    "    energy_result[\"y_test\"],\n",
    "    energy_result[\"y_pred\"],\n",
    "    \"Energy: Predicted vs True\",\n",
    ")\n"
   ]
  },
  {
   "cell_type": "code",
   "execution_count": 19,
   "id": "b5c62003",
   "metadata": {},
   "outputs": [
    {
     "data": {
      "image/png": "[encoded data removed]",
      "text/plain": [
       "<Figure size 500x400 with 1 Axes>"
      ]
     },
     "metadata": {},
     "output_type": "display_data"
    }
   ],
   "source": [
    "\n",
    "plot_residuals(\n",
    "    energy_result[\"y_test\"],\n",
    "    energy_result[\"y_pred\"],\n",
    "    \"Energy: Residuals\",\n",
    ")\n"
   ]
  },
  {
   "cell_type": "markdown",
   "id": "a951b6fb",
   "metadata": {},
   "source": [
    "\n",
    "## Summary\n",
    "\n",
    "- Linear Regression finds coefficients that best fit the training data.\n",
    "- Always check metrics (MSE, R²) and inspect residuals.\n",
    "- Interpret coefficients carefully, considering feature units.\n",
    "- Use Linear Regression as a strong baseline before more complex models.\n"
   ]
  }
 ],
 "metadata": {
  "kernelspec": {
   "display_name": "brainfm-data--92SuIW6",
   "language": "python",
   "name": "python3"
  },
  "language_info": {
   "codemirror_mode": {
    "name": "ipython",
    "version": 3
   },
   "file_extension": ".py",
   "mimetype": "text/x-python",
   "name": "python",
   "nbconvert_exporter": "python",
   "pygments_lexer": "ipython3",
   "version": "3.10.12"
  }
 },
 "nbformat": 4,
 "nbformat_minor": 5
}
